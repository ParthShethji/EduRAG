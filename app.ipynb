{
 "cells": [
  {
   "cell_type": "code",
   "execution_count": 1,
   "metadata": {},
   "outputs": [],
   "source": [
    "import langchain\n",
    "from langchain_community.document_loaders import PyPDFLoader\n"
   ]
  },
  {
   "cell_type": "code",
   "execution_count": 2,
   "metadata": {},
   "outputs": [],
   "source": [
    "\n",
    "def load_pdf(file_path):\n",
    "    \"\"\"Loads a PDF and extracts text from it.\"\"\"\n",
    "    loader = PyPDFLoader(file_path)\n",
    "    pages = loader.load()\n",
    "    return pages\n",
    "\n",
    "pdf_path = \"../ikigai.pdf\"\n",
    "documents = load_pdf(pdf_path)\n"
   ]
  },
  {
   "cell_type": "code",
   "execution_count": 3,
   "metadata": {},
   "outputs": [
    {
     "name": "stdout",
     "output_type": "stream",
     "text": [
      "Chunk 1:\n",
      "IKIGAI \n",
      "1. What is your reason for being? \n",
      "2. Whatever you do, don’t retire! \n",
      "3. Having a clearly defined ikigai brings satisfaction, \n",
      "happiness, and meaning to our lives. \n",
      "4. Their blood tests reveal fewer free radicals (which are \n",
      "responsible for cellular aging), as a result of drinking tea \n",
      "and eating until their stomachs are only 80 percent full \n",
      "5. the keys to longevity are diet, exercise, finding a purpose \n",
      "in life (an ikigai), and forming strong social ties—that is,\n",
      "\n",
      "Chunk 2:\n",
      "in life (an ikigai), and forming strong social ties—that is, \n",
      "having a broad circle of friends and good family relations. \n",
      "6. Members of these communities manage their time well in \n",
      "order to reduce \n",
      "7. stress, consume little meat or processed foods, and drink \n",
      "alcohol in moderation.1 They don’t do strenuous exercise, \n",
      "but they do move every day, taking walks and working in \n",
      "their vegetable gardens \n",
      "8. Fill your belly to 80 percent.” Ancient wisdom advises\n",
      "\n",
      "Chunk 3:\n",
      "their vegetable gardens \n",
      "8. Fill your belly to 80 percent.” Ancient wisdom advises \n",
      "against eating until we are full. “Hara hachi bu\". The \n",
      "lesson to learn from this saying is that we should stop \n",
      "eating when we are starting to feel full.\n",
      "\n",
      "Chunk 4:\n",
      "9. By presenting their meals on many small plates, the \n",
      "Japanese tend to eat less \n",
      "10.Having five plates in front of you makes it seem like you \n",
      "are going to eat a lot, but what happens most of the time \n",
      "is that you end up feeling slightly hungry.  \n",
      "11.Moai: Connected for life - It is customary in Okinawa to \n",
      "form close bonds within local communities. A moai is an \n",
      "informal group of people with common interests who look \n",
      "out for one another.In this way, being part of a moai\n",
      "\n",
      "Chunk 5:\n",
      "out for one another.In this way, being part of a moai \n",
      "helps maintain emotional and financial stability. If a \n",
      "member of a moai is in financial trouble, he or she can get \n",
      "an advance from the group’s savings. the feeling of \n",
      "belonging and support gives the individual a sense of \n",
      "security and helps increase life expectancy \n",
      "12.mens sana in corpore sano” (“a sound mind in a sound \n",
      "body”): It reminds us that both mind and body are \n",
      "important, and that the health of one is connected to\n",
      "\n"
     ]
    }
   ],
   "source": [
    "from langchain_text_splitters import RecursiveCharacterTextSplitter\n",
    "\n",
    "def chunk_text(documents, chunk_size=500, chunk_overlap=100):\n",
    "    \"\"\"Splits extracted text into manageable chunks.\"\"\"\n",
    "    text_splitter = RecursiveCharacterTextSplitter(\n",
    "        chunk_size=chunk_size, chunk_overlap=chunk_overlap\n",
    "    )\n",
    "    chunks = text_splitter.split_documents(documents)\n",
    "    return chunks\n",
    "\n",
    "text_chunks = chunk_text(documents)\n",
    "\n",
    "for i, chunk in enumerate(text_chunks[:5]):\n",
    "    print(f\"Chunk {i+1}:\\n{chunk.page_content}\\n\")\n"
   ]
  },
  {
   "cell_type": "code",
   "execution_count": 4,
   "metadata": {},
   "outputs": [
    {
     "data": {
      "text/plain": [
       "True"
      ]
     },
     "execution_count": 4,
     "metadata": {},
     "output_type": "execute_result"
    }
   ],
   "source": [
    "from dotenv import load_dotenv\n",
    "load_dotenv()"
   ]
  },
  {
   "cell_type": "code",
   "execution_count": 5,
   "metadata": {},
   "outputs": [
    {
     "name": "stderr",
     "output_type": "stream",
     "text": [
      "c:\\Users\\Parth Shethji\\Desktop\\College\\4th Year\\sem8\\EduRAG\\venv\\Lib\\site-packages\\tqdm\\auto.py:21: TqdmWarning: IProgress not found. Please update jupyter and ipywidgets. See https://ipywidgets.readthedocs.io/en/stable/user_install.html\n",
      "  from .autonotebook import tqdm as notebook_tqdm\n"
     ]
    }
   ],
   "source": [
    "import google.generativeai as genai\n",
    "import faiss\n",
    "import numpy as np\n",
    "from langchain_google_genai import GoogleGenerativeAIEmbeddings\n",
    "\n",
    "\n",
    "# Initialize Gemini Embeddings\n",
    "embeddings_model = GoogleGenerativeAIEmbeddings(model=\"models/embedding-001\")\n"
   ]
  },
  {
   "cell_type": "code",
   "execution_count": 6,
   "metadata": {},
   "outputs": [],
   "source": [
    "def generate_gemini_embeddings(text_chunks):\n",
    "    \"\"\"Converts text chunks into Gemini embeddings.\"\"\"\n",
    "    texts = [chunk.page_content for chunk in text_chunks]\n",
    "    embeddings = embeddings_model.embed_documents(texts)\n",
    "    return np.array(embeddings).astype(\"float32\"), texts\n",
    "\n",
    "# Convert text chunks to embeddings\n",
    "embeddings, texts = generate_gemini_embeddings(text_chunks)\n"
   ]
  },
  {
   "cell_type": "code",
   "execution_count": 7,
   "metadata": {},
   "outputs": [],
   "source": [
    "index = faiss.IndexFlatL2(embeddings.shape[1])\n",
    "index.add(embeddings)\n",
    "faiss.write_index(index, \"faiss.index\")\n"
   ]
  },
  {
   "cell_type": "code",
   "execution_count": 8,
   "metadata": {},
   "outputs": [],
   "source": [
    "# Save text chunks separately\n",
    "import pickle\n",
    "with open(\"stored_chunks.pkl\", \"wb\") as f:\n",
    "    pickle.dump(texts, f)  # `texts` contains the original text chunks\n"
   ]
  },
  {
   "cell_type": "code",
   "execution_count": 9,
   "metadata": {},
   "outputs": [],
   "source": [
    "import faiss\n",
    "import pickle\n",
    "\n",
    "# Load FAISS index\n",
    "index = faiss.read_index(\"faiss.index\")\n",
    "\n",
    "# Load stored text chunks (stored separately in a pickle file)\n",
    "with open(\"stored_chunks.pkl\", \"rb\") as f:\n",
    "    texts = pickle.load(f)  # This should contain the chunked text\n"
   ]
  },
  {
   "cell_type": "code",
   "execution_count": 10,
   "metadata": {},
   "outputs": [
    {
     "name": "stdout",
     "output_type": "stream",
     "text": [
      "**Important Topics from the Study Material on Ikigai:**\n",
      "\n",
      "* **Definition of Ikigai:** The reason for being; what brings satisfaction, happiness, and meaning to our lives.\n",
      "* **Keys to Longevity:** Diet, exercise, finding purpose (ikigai), and strong social ties.\n",
      "* **The Blue Zone: Okinawa:** People in this region live longer, attributed to diet, exercise, and community support.\n",
      "* **Hara Hachi Bu:** The practice of eating until 80% full to promote longevity.\n",
      "* **Moai:** Informal groups in Okinawa that provide emotional and financial support, contributing to life expectancy.\n",
      "* **Mens Sana in Corpore Sano:** The importance of both mental and physical health for well-being.\n",
      "* **Stress and Longevity:** Chronic stress can accelerate aging; finding ways to manage stress is crucial.\n",
      "* **Mindfulness:** Techniques like meditation, breathing exercises, and yoga can help reduce stress and promote well-being.\n",
      "* **Importance of Staying Active:** Avoid sedentary lifestyles by engaging in regular exercise and activities.\n",
      "* **Antiaging Attitudes:** A positive outlook and emotional awareness contribute to longevity.\n",
      "* **Search for Meaning:** Identifying purpose can provide motivation and reduce existential frustration.\n",
      "* **Flow:** Focusing on activities that bring enjoyment and reduce worries can lead to optimal experiences.\n",
      "* **Strategies for Achieving Flow:** Choose challenging but not overwhelming tasks, define clear objectives, concentrate on a single task, eliminate distractions, and set up rituals.\n",
      "* **Sophisticated Simplicity:** Seeking simplicity while striving for innovation and improvement in various aspects of life.\n",
      "* **Microflow:** Turning routine tasks into moments of enjoyment to enhance overall happiness.\n",
      "* **Instant Vacations Through Meditation:** Exercising mental muscles through meditation for relaxation and centering.\n",
      "* **Importance of Rituals:** Defining clear rules and objectives to enter a state of flow and enhance enjoyment.\n",
      "* **Celebration and Community:** Engaging in activities and rituals as a community can foster happiness.\n",
      "* **Cultivating Good Habits:** Developing healthy habits, such as regular exercise, proper nutrition, and social engagement.\n",
      "* **Nurturing Friendships:** Strong social connections contribute to overall well-being and longevity.\n",
      "* **Optimism and Gratitude:** Adopting a positive outlook and expressing gratitude can enhance longevity.\n",
      "* **Okinawa's Healthy Diet:** Consuming a variety of whole foods, including fruits, vegetables, grains, and legumes.\n",
      "* **Avoidance of Processed Foods and Excessive Salt and Sugar:** Limiting the consumption of unhealthy foods is crucial for longevity.\n",
      "* **Emphasis on Physical Activity:** Engage in regular daily activities to maintain mobility and prevent muscle loss.\n",
      "* **Posture and Movement:** Practicing proper posture and fluid movements can improve health and well-being.\n",
      "* **Resilience and Antifragility:** Developing resilience to setbacks and becoming antifragile through controlled risk-taking and adaptation to change.\n",
      "* **Impermanence and Appreciation:** Acknowledging the impermanence of things can foster gratitude and encourage living in the present moment.\n",
      "* **Follow Your Passions and Avoid Toxicity:** Pursue activities that bring joy and eliminate negative influences from your life.\n",
      "* **Take It Slow and Live in the Moment:** Avoid a rushed lifestyle and focus on savoring the present.\n",
      "* **Surround Yourself with Good Friends:** Strong social connections are essential for emotional well-being.\n",
      "* **Give Thanks and Practice Mindfulness:** Expressing gratitude and living in the present can enhance happiness and contentment.\n",
      "**Summary:**\n",
      "\n",
      "Ikigai, meaning \"a reason for being,\" emphasizes the importance of living a fulfilling life with purpose. It promotes:\n",
      "\n",
      "* Avoiding retirement and staying active\n",
      "* Maintaining a healthy diet, including eating less and consuming tea and vegetables\n",
      "* Forming strong social ties and supporting one another\n",
      "* Engaging in activities that offer flow states\n",
      "* Reducing stress and embracing mindfulness\n",
      "* Cultivating positive attitudes and emotional resilience\n",
      "* Recognizing the impermanence of life and living in the present\n",
      "* Finding passion and meaning through one's ikigai\n",
      "* Maintaining physical activity and staying away from excessive food intake\n",
      "* Surrounding oneself with supportive friends and contributing to the well-being of others\n",
      "* Expressing gratitude and acknowledging the positive aspects of life\n",
      "* Living in the moment and appreciating the present\n"
     ]
    }
   ],
   "source": [
    "def extract_topics_from_chunks_and_summarize(chunks):\n",
    "    \"\"\"Extract key topics from stored FAISS chunks.\"\"\"\n",
    "    combined_text = \"\\n\".join(chunks)  # Merge chunks for topic extraction\n",
    "    model = genai.GenerativeModel('gemini-pro')\n",
    "    prompt=f\"Extract the most important topics from the following study material :\\n\\n{combined_text}\"\n",
    "\n",
    "    response = model.generate_content(prompt)\n",
    "    print(response.text.strip())\n",
    "    \n",
    "\n",
    "    # topics = response.text.split()  # Convert response to list\n",
    "    # #topics = topics.replace(\"'''\", \"\").replace('\"\"\"', \"\").replace(\"JSON\", \"\").strip()\n",
    "    prompt=f\"Summarize the following and just return the summary:\\n\\n{combined_text}\"\n",
    "    response = model.generate_content(prompt)\n",
    "    \n",
    "    print(response.text.strip())\n",
    "\n",
    "# Extract topics from the stored chunks\n",
    "extract_topics_from_chunks_and_summarize(texts)\n",
    "# important_topics = extract_topics_from_chunks(texts)\n",
    "# print(\"\\nExtracted Topics:\\n\", important_topics)\n"
   ]
  },
  {
   "cell_type": "code",
   "execution_count": 11,
   "metadata": {},
   "outputs": [
    {
     "name": "stdout",
     "output_type": "stream",
     "text": [
      "**Quiz**\n",
      "\n",
      "**Questions:**\n",
      "\n",
      "1. What is your reason for being?\n",
      "2. What is the key to longevity, according to the Okinawan locals?\n",
      "3. What is the \"80 percent rule\" for eating?\n",
      "4. How can meditation help you prevent the negative effects of stress?\n",
      "5. What is Morita therapy?\n",
      "6. What are the four phases of Morita therapy?\n",
      "7. What does it mean to \"discover your ikigai\"?\n",
      "8. What are some strategies for achieving flow?\n",
      "9. How can you cultivate good habits?\n",
      "10. What is the secret to a long and healthy life, according to the Okinawan elders?\n",
      "\n",
      "**Answers:**\n",
      "\n",
      "1. Finding your ikigai, or purpose in life.\n",
      "2. Diet, exercise, finding a purpose in life, and forming strong social ties.\n",
      "3. Eating until you are 80 percent full.\n",
      "4. It helps you reduce stress and calm the mind.\n",
      "5. A Japanese therapy that emphasizes accepting and observing one's emotions.\n",
      "6. Isolation and rest, light occupational therapy, occupational therapy, and return to social life.\n",
      "7. Finding the activities that bring you joy and fulfillment.\n",
      "8. Choosing challenging tasks, setting clear goals, focusing on the present moment, and eliminating distractions.\n",
      "9. Nurturing friendships, setting goals, and getting enough sleep.\n",
      "10. Eating a balanced diet, exercising regularly, having a sense of purpose, and maintaining strong social connections.\n"
     ]
    }
   ],
   "source": [
    "def gen_quiz(chunks):\n",
    "    \"\"\"Extract key topics from stored FAISS chunks.\"\"\"\n",
    "    combined_text = \"\\n\".join(chunks)  # Merge chunks for topic extraction\n",
    "    model = genai.GenerativeModel('gemini-pro')\n",
    "\n",
    "    \n",
    "\n",
    "    # topics = response.text.split()  # Convert response to list\n",
    "    # #topics = topics.replace(\"'''\", \"\").replace('\"\"\"', \"\").replace(\"JSON\", \"\").strip()\n",
    "    prompt=f\"Generate Quiz for the following content: \\n\\n{combined_text}\"\n",
    "    response = model.generate_content(prompt)\n",
    "    \n",
    "    print(response.text.strip())\n",
    "\n",
    "# Extract topics from the stored chunks\n",
    "gen_quiz(texts)\n",
    "# important_topics = extract_topics_from_chunks(texts)\n",
    "# print(\"\\nExtracted Topics:\\n\", important_topics)\n"
   ]
  },
  {
   "cell_type": "code",
   "execution_count": 12,
   "metadata": {},
   "outputs": [
    {
     "name": "stdout",
     "output_type": "stream",
     "text": [
      "Moai is an informal group of people with common interests who look out for one another. In this way, being part of a moai helps maintain emotional and financial stability\n"
     ]
    }
   ],
   "source": [
    "def gen_quiz(chunks):\n",
    "\n",
    "    combined_text = \"\\n\".join(chunks)  # Merge chunks for topic extraction\n",
    "    model = genai.GenerativeModel('gemini-pro')\n",
    "    question=\"what is MOAI?\"\n",
    "    \n",
    "\n",
    "    # topics = response.text.split()  # Convert response to list\n",
    "    # #topics = topics.replace(\"'''\", \"\").replace('\"\"\"', \"\").replace(\"JSON\", \"\").strip()\n",
    "    prompt=f\"Answer the following question from the give text.\\n\\ngiven text:{combined_text}\\n\\n{question}\"\n",
    "    response = model.generate_content(prompt)\n",
    "    \n",
    "    print(response.text.strip())\n",
    "\n",
    "gen_quiz(texts)\n",
    "\n"
   ]
  }
 ],
 "metadata": {
  "kernelspec": {
   "display_name": "venv",
   "language": "python",
   "name": "python3"
  },
  "language_info": {
   "codemirror_mode": {
    "name": "ipython",
    "version": 3
   },
   "file_extension": ".py",
   "mimetype": "text/x-python",
   "name": "python",
   "nbconvert_exporter": "python",
   "pygments_lexer": "ipython3",
   "version": "3.12.5"
  }
 },
 "nbformat": 4,
 "nbformat_minor": 2
}
